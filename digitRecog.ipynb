{
  "nbformat": 4,
  "nbformat_minor": 0,
  "metadata": {
    "colab": {
      "name": "digitRecog.ipynb",
      "provenance": [],
      "include_colab_link": true
    },
    "kernelspec": {
      "name": "python3",
      "display_name": "Python 3"
    }
  },
  "cells": [
    {
      "cell_type": "markdown",
      "metadata": {
        "id": "view-in-github",
        "colab_type": "text"
      },
      "source": [
        "<a href=\"https://colab.research.google.com/github/jayant-dhawan/MCA507-Neural-Networks/blob/master/digitRecog.ipynb\" target=\"_parent\"><img src=\"https://colab.research.google.com/assets/colab-badge.svg\" alt=\"Open In Colab\"/></a>"
      ]
    },
    {
      "cell_type": "code",
      "metadata": {
        "id": "BPDAoN1lDhAf",
        "colab_type": "code",
        "outputId": "a77c48a6-1abe-4912-fad1-eaf90c2e19ca",
        "colab": {
          "base_uri": "https://localhost:8080/",
          "height": 286
        }
      },
      "source": [
        "import tensorflow as tf\n",
        "from tensorflow.examples.tutorials.mnist import input_data\n",
        "\n",
        "mnist = input_data.read_data_sets(\"MNIST_data/\", one_hot = True)\n",
        "\n",
        "n_train = mnist.train.num_examples\n",
        "b_validation = mnist.validation.num_examples\n",
        "n_test = mnist.test.num_examples\n",
        "\n",
        "n_input = 784\n",
        "n_hidden1 = 512\n",
        "n_hidden2 = 256\n",
        "n_hidden3 = 128\n",
        "n_output = 10\n",
        "\n",
        "#Hyperparameteres\n",
        "learning_rate = 1e-4\n",
        "n_iterations = 1000\n",
        "batch_size = 512\n",
        "dropout = 0.5\n",
        "\n",
        "X = tf.placeholder(\"float\", [None, n_input])\n",
        "Y = tf.placeholder(\"float\", [None, n_output])\n",
        "keep_prob = tf.placeholder(tf.float32)\n",
        "\n",
        "weights = {\n",
        "    'w1' : tf.Variable(tf.truncated_normal([n_input, n_hidden1], stddev=0.1)),\n",
        "    'w2' : tf.Variable(tf.truncated_normal([n_hidden1, n_hidden2], stddev=0.1)),\n",
        "    'w3' : tf.Variable(tf.truncated_normal([n_hidden2, n_hidden3], stddev=0.1)),\n",
        "    'out': tf.Variable(tf.truncated_normal([n_hidden3, n_output], stddev=0.1)),\n",
        "\n",
        "}\n",
        "\n",
        "biases = {\n",
        "    'b1' : tf.Variable(tf.constant(0.1, shape=[n_hidden1])),\n",
        "    'b2': tf.Variable(tf.constant(0.1, shape=[n_hidden2])),\n",
        "    'b3': tf.Variable(tf.constant(0.1, shape=[n_hidden3])),\n",
        "    'out': tf.Variable(tf.constant(0.1, shape=[n_output]))\n",
        "}\n",
        "\n",
        "layer_1 = tf.add(tf.matmul(X, weights['w1']), biases['b1'])\n",
        "layer_2 = tf.add(tf.matmul(layer_1, weights['w2']), biases['b2'])\n",
        "layer_3 = tf.add(tf.matmul(layer_2, weights['w3']), biases['b3'])\n",
        "layer_drop = tf.nn.dropout(layer_3, keep_prob)\n",
        "output_layer = tf.matmul(layer_drop, weights['out']) + biases['out']\n",
        "\n",
        "cross_entropy = tf.reduce_mean(\n",
        "    tf.nn.softmax_cross_entropy_with_logits(\n",
        "        labels = Y, logits = output_layer\n",
        "    )\n",
        ")\n",
        "\n",
        "train_step = tf.train.AdamOptimizer(1e-4).minimize(cross_entropy)\n",
        "\n",
        "correct_pred = tf.equal(tf.argmax(output_layer, 1), tf.argmax(Y, 1))\n",
        "accuracy = tf.reduce_mean(tf.cast(correct_pred, tf.float32))\n",
        "\n",
        "init = tf.global_variables_initializer()\n",
        "sess = tf.Session()\n",
        "sess.run(init)\n",
        "\n",
        "#Training\n",
        "\n",
        "for i in range(n_iterations):\n",
        "  batch_x, batch_y = mnist.train.next_batch(batch_size)\n",
        "  sess.run(train_step, feed_dict={\n",
        "      X: batch_x, Y:batch_y, keep_prob: dropout\n",
        "  })\n",
        "\n",
        "  if i%100 == 0:\n",
        "    minibatch_loss, minibatch_accuracy = sess.run(\n",
        "        [cross_entropy, accuracy],\n",
        "        feed_dict = {\n",
        "            X : batch_x, Y:batch_y, keep_prob: 1.0\n",
        "        }\n",
        "    )\n",
        "\n",
        "    print(\n",
        "        \"Iteration\",\n",
        "        str(i),\n",
        "        \"\\t Loss =\",\n",
        "        str(minibatch_loss),\n",
        "        \"\\t Accuracy =\",\n",
        "        str(minibatch_accuracy)\n",
        "    )\n",
        "\n",
        "test_accuracy = sess.run(accuracy, feed_dict={X: mnist.test.images, Y:mnist.test.labels, keep_prob: 1.0})\n",
        "print(\"\\n Accuracy on Test set: \", test_accuracy)\n",
        "\n",
        "# from google.colab import drive\n",
        "# drive.mount('/content/drive')\n",
        "\n",
        "# import numpy as np\n",
        "# from PIL import Image\n",
        "\n",
        "# img = np.invert(Image.open('/content/drive/My Drive/mnist_test/4/1.png').convert('L')).ravel()\n",
        "# prediction = sess.run(tf.argmax(output_layer, 1), feed_dict={X: [img], keep_prob:1.0})\n",
        "# print(\"Prediction is: \", np.squeeze(prediction))"
      ],
      "execution_count": 3,
      "outputs": [
        {
          "output_type": "stream",
          "text": [
            "Extracting MNIST_data/train-images-idx3-ubyte.gz\n",
            "Extracting MNIST_data/train-labels-idx1-ubyte.gz\n",
            "Extracting MNIST_data/t10k-images-idx3-ubyte.gz\n",
            "Extracting MNIST_data/t10k-labels-idx1-ubyte.gz\n",
            "Iteration 0 \t Loss = 3.2055583 \t Accuracy = 0.16601562\n",
            "Iteration 100 \t Loss = 0.45489913 \t Accuracy = 0.859375\n",
            "Iteration 200 \t Loss = 0.3709246 \t Accuracy = 0.89453125\n",
            "Iteration 300 \t Loss = 0.32293338 \t Accuracy = 0.8828125\n",
            "Iteration 400 \t Loss = 0.36243063 \t Accuracy = 0.8808594\n",
            "Iteration 500 \t Loss = 0.25050002 \t Accuracy = 0.9355469\n",
            "Iteration 600 \t Loss = 0.29463983 \t Accuracy = 0.90625\n",
            "Iteration 700 \t Loss = 0.24080305 \t Accuracy = 0.93359375\n",
            "Iteration 800 \t Loss = 0.17048728 \t Accuracy = 0.9453125\n",
            "Iteration 900 \t Loss = 0.30274117 \t Accuracy = 0.9160156\n",
            "\n",
            " Accuracy on Test set:  0.923\n"
          ],
          "name": "stdout"
        }
      ]
    },
    {
      "cell_type": "code",
      "metadata": {
        "id": "tXqF8JCbj2_U",
        "colab_type": "code",
        "outputId": "3994c4a6-57e9-44d8-b4a7-f06e814be0df",
        "colab": {
          "base_uri": "https://localhost:8080/",
          "height": 212
        }
      },
      "source": [
        "img = np.invert(Image.open('/content/drive/My Drive/mnist_test/0/1.png').convert('L')).ravel()\n",
        "prediction = sess.run(tf.argmax(output_layer, 1), feed_dict={X: [img], keep_prob: 1.0})\n",
        "# print(img)\n",
        "print(\"Prediction is: \", np.squeeze(prediction))"
      ],
      "execution_count": 2,
      "outputs": [
        {
          "output_type": "error",
          "ename": "NameError",
          "evalue": "ignored",
          "traceback": [
            "\u001b[0;31m---------------------------------------------------------------------------\u001b[0m",
            "\u001b[0;31mNameError\u001b[0m                                 Traceback (most recent call last)",
            "\u001b[0;32m<ipython-input-2-313b5ac84bcf>\u001b[0m in \u001b[0;36m<module>\u001b[0;34m()\u001b[0m\n\u001b[0;32m----> 1\u001b[0;31m \u001b[0mimg\u001b[0m \u001b[0;34m=\u001b[0m \u001b[0mnp\u001b[0m\u001b[0;34m.\u001b[0m\u001b[0minvert\u001b[0m\u001b[0;34m(\u001b[0m\u001b[0mImage\u001b[0m\u001b[0;34m.\u001b[0m\u001b[0mopen\u001b[0m\u001b[0;34m(\u001b[0m\u001b[0;34m'/content/drive/My Drive/mnist_test/0/1.png'\u001b[0m\u001b[0;34m)\u001b[0m\u001b[0;34m.\u001b[0m\u001b[0mconvert\u001b[0m\u001b[0;34m(\u001b[0m\u001b[0;34m'L'\u001b[0m\u001b[0;34m)\u001b[0m\u001b[0;34m)\u001b[0m\u001b[0;34m.\u001b[0m\u001b[0mravel\u001b[0m\u001b[0;34m(\u001b[0m\u001b[0;34m)\u001b[0m\u001b[0;34m\u001b[0m\u001b[0;34m\u001b[0m\u001b[0m\n\u001b[0m\u001b[1;32m      2\u001b[0m \u001b[0mprediction\u001b[0m \u001b[0;34m=\u001b[0m \u001b[0msess\u001b[0m\u001b[0;34m.\u001b[0m\u001b[0mrun\u001b[0m\u001b[0;34m(\u001b[0m\u001b[0mtf\u001b[0m\u001b[0;34m.\u001b[0m\u001b[0margmax\u001b[0m\u001b[0;34m(\u001b[0m\u001b[0moutput_layer\u001b[0m\u001b[0;34m,\u001b[0m \u001b[0;36m1\u001b[0m\u001b[0;34m)\u001b[0m\u001b[0;34m,\u001b[0m \u001b[0mfeed_dict\u001b[0m\u001b[0;34m=\u001b[0m\u001b[0;34m{\u001b[0m\u001b[0mX\u001b[0m\u001b[0;34m:\u001b[0m \u001b[0;34m[\u001b[0m\u001b[0mimg\u001b[0m\u001b[0;34m]\u001b[0m\u001b[0;34m,\u001b[0m \u001b[0mkeep_prob\u001b[0m\u001b[0;34m:\u001b[0m \u001b[0;36m1.0\u001b[0m\u001b[0;34m}\u001b[0m\u001b[0;34m)\u001b[0m\u001b[0;34m\u001b[0m\u001b[0;34m\u001b[0m\u001b[0m\n\u001b[1;32m      3\u001b[0m \u001b[0;31m# print(img)\u001b[0m\u001b[0;34m\u001b[0m\u001b[0;34m\u001b[0m\u001b[0;34m\u001b[0m\u001b[0m\n\u001b[1;32m      4\u001b[0m \u001b[0mprint\u001b[0m\u001b[0;34m(\u001b[0m\u001b[0;34m\"Prediction is: \"\u001b[0m\u001b[0;34m,\u001b[0m \u001b[0mnp\u001b[0m\u001b[0;34m.\u001b[0m\u001b[0msqueeze\u001b[0m\u001b[0;34m(\u001b[0m\u001b[0mprediction\u001b[0m\u001b[0;34m)\u001b[0m\u001b[0;34m)\u001b[0m\u001b[0;34m\u001b[0m\u001b[0;34m\u001b[0m\u001b[0m\n",
            "\u001b[0;31mNameError\u001b[0m: name 'np' is not defined"
          ]
        }
      ]
    },
    {
      "cell_type": "code",
      "metadata": {
        "id": "l65OE91lbg5U",
        "colab_type": "code",
        "colab": {}
      },
      "source": [
        ""
      ],
      "execution_count": 0,
      "outputs": []
    }
  ]
}